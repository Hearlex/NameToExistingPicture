{
  "nbformat": 4,
  "nbformat_minor": 0,
  "metadata": {
    "colab": {
      "provenance": [],
      "toc_visible": true
    },
    "kernelspec": {
      "name": "python3",
      "display_name": "Python 3"
    },
    "language_info": {
      "name": "python"
    },
    "accelerator": "GPU",
    "gpuClass": "standard"
  },
  "cells": [
    {
      "cell_type": "markdown",
      "source": [
        "**Name To Existing Picture**\n",
        "\n",
        "A feladat célja, hogy egy névből képesek legyünk egy hozzá illő képet választani. A képek előre megvannak adva egy olyan adatbázisból ami rendelkezik a képen szereplő személyek valódi nevével.\n",
        "\n",
        "Dataset: \n",
        "https://www.kaggle.com/datasets/atulanandjha/lfwpeople\n",
        "\n",
        "Autoencoder beszámoló: https://docs.google.com/document/d/1dmZzw1Y8ofzLQFVNqS8wNrVdxtTS74Kg/edit?usp=sharing&ouid=105128247285171804164&rtpof=true&sd=true\n",
        "\n",
        "RNN beszámoló: https://docs.google.com/document/d/1Mh1bf_mK-Q54WSJLKcNBJYstUvoGVA8w/edit?usp=sharing&ouid=114144515536930337288&rtpof=true&sd=true\n"
      ],
      "metadata": {
        "id": "ZtCBiyAZHKrZ"
      }
    },
    {
      "cell_type": "markdown",
      "source": [
        "# Preparation"
      ],
      "metadata": {
        "id": "LiJ4f4OMHmjM"
      }
    },
    {
      "cell_type": "markdown",
      "source": [
        "## Imports"
      ],
      "metadata": {
        "id": "tzvPRyABRN1M"
      }
    },
    {
      "cell_type": "code",
      "source": [
        "! pip install rembg[gpu]\n",
        "! pip install json-numpy\n",
        "! pip install pillow==7.1.2\n",
        "from rembg import remove\n",
        "from torch import nn, cuda, optim, float32\n",
        "from torch.utils.data import Dataset, DataLoader\n",
        "import torch\n",
        "import numpy as np\n",
        "import zipfile as zf\n",
        "import tarfile as tf\n",
        "import pandas as pd\n",
        "import os\n",
        "import PIL\n",
        "from matplotlib import pyplot as plt\n",
        "from PIL import Image\n",
        "from random import randint\n",
        "import cv2\n",
        "import json\n",
        "import json_numpy\n",
        "import string"
      ],
      "metadata": {
        "id": "oDgsbkYUHuOO",
        "colab": {
          "base_uri": "https://localhost:8080/"
        },
        "outputId": "1dad19c1-2411-47bd-fc48-50b9c65ce06c"
      },
      "execution_count": null,
      "outputs": [
        {
          "output_type": "stream",
          "name": "stdout",
          "text": [
            "Looking in indexes: https://pypi.org/simple, https://us-python.pkg.dev/colab-wheels/public/simple/\n",
            "Collecting rembg[gpu]\n",
            "  Downloading rembg-2.0.30-py3-none-any.whl (13 kB)\n",
            "Collecting imagehash~=4.3.1\n",
            "  Downloading ImageHash-4.3.1-py2.py3-none-any.whl (296 kB)\n",
            "\u001b[2K     \u001b[90m━━━━━━━━━━━━━━━━━━━━━━━━━━━━━━━━━━━━━━\u001b[0m \u001b[32m296.5/296.5 KB\u001b[0m \u001b[31m17.0 MB/s\u001b[0m eta \u001b[36m0:00:00\u001b[0m\n",
            "\u001b[?25hCollecting numpy~=1.23.5\n",
            "  Downloading numpy-1.23.5-cp38-cp38-manylinux_2_17_x86_64.manylinux2014_x86_64.whl (17.1 MB)\n",
            "\u001b[2K     \u001b[90m━━━━━━━━━━━━━━━━━━━━━━━━━━━━━━━━━━━━━━━━\u001b[0m \u001b[32m17.1/17.1 MB\u001b[0m \u001b[31m85.0 MB/s\u001b[0m eta \u001b[36m0:00:00\u001b[0m\n",
            "\u001b[?25hRequirement already satisfied: aiohttp~=3.8.1 in /usr/local/lib/python3.8/dist-packages (from rembg[gpu]) (3.8.3)\n",
            "Requirement already satisfied: tqdm~=4.64.1 in /usr/local/lib/python3.8/dist-packages (from rembg[gpu]) (4.64.1)\n",
            "Collecting filetype~=1.2.0\n",
            "  Downloading filetype-1.2.0-py2.py3-none-any.whl (19 kB)\n",
            "Requirement already satisfied: pooch~=1.6.0 in /usr/local/lib/python3.8/dist-packages (from rembg[gpu]) (1.6.0)\n",
            "Collecting pillow~=9.3.0\n",
            "  Downloading Pillow-9.3.0-cp38-cp38-manylinux_2_28_x86_64.whl (3.3 MB)\n",
            "\u001b[2K     \u001b[90m━━━━━━━━━━━━━━━━━━━━━━━━━━━━━━━━━━━━━━━━\u001b[0m \u001b[32m3.3/3.3 MB\u001b[0m \u001b[31m74.2 MB/s\u001b[0m eta \u001b[36m0:00:00\u001b[0m\n",
            "\u001b[?25hCollecting pymatting~=1.1.8\n",
            "  Downloading PyMatting-1.1.8-py3-none-any.whl (47 kB)\n",
            "\u001b[2K     \u001b[90m━━━━━━━━━━━━━━━━━━━━━━━━━━━━━━━━━━━━━━━━\u001b[0m \u001b[32m47.7/47.7 KB\u001b[0m \u001b[31m6.2 MB/s\u001b[0m eta \u001b[36m0:00:00\u001b[0m\n",
            "\u001b[?25hCollecting click~=8.1.3\n",
            "  Downloading click-8.1.3-py3-none-any.whl (96 kB)\n",
            "\u001b[2K     \u001b[90m━━━━━━━━━━━━━━━━━━━━━━━━━━━━━━━━━━━━━━━━\u001b[0m \u001b[32m96.6/96.6 KB\u001b[0m \u001b[31m12.6 MB/s\u001b[0m eta \u001b[36m0:00:00\u001b[0m\n",
            "\u001b[?25hCollecting scipy~=1.9.3\n",
            "  Downloading scipy-1.9.3-cp38-cp38-manylinux_2_17_x86_64.manylinux2014_x86_64.whl (33.8 MB)\n",
            "\u001b[2K     \u001b[90m━━━━━━━━━━━━━━━━━━━━━━━━━━━━━━━━━━━━━━━━\u001b[0m \u001b[32m33.8/33.8 MB\u001b[0m \u001b[31m32.0 MB/s\u001b[0m eta \u001b[36m0:00:00\u001b[0m\n",
            "\u001b[?25hCollecting onnxruntime~=1.13.1\n",
            "  Downloading onnxruntime-1.13.1-cp38-cp38-manylinux_2_27_x86_64.whl (4.5 MB)\n",
            "\u001b[2K     \u001b[90m━━━━━━━━━━━━━━━━━━━━━━━━━━━━━━━━━━━━━━━━\u001b[0m \u001b[32m4.5/4.5 MB\u001b[0m \u001b[31m81.4 MB/s\u001b[0m eta \u001b[36m0:00:00\u001b[0m\n",
            "\u001b[?25hCollecting python-multipart~=0.0.5\n",
            "  Downloading python-multipart-0.0.5.tar.gz (32 kB)\n",
            "  Preparing metadata (setup.py) ... \u001b[?25l\u001b[?25hdone\n",
            "Collecting fastapi~=0.87.0\n",
            "  Downloading fastapi-0.87.0-py3-none-any.whl (55 kB)\n",
            "\u001b[2K     \u001b[90m━━━━━━━━━━━━━━━━━━━━━━━━━━━━━━━━━━━━━━━━\u001b[0m \u001b[32m55.5/55.5 KB\u001b[0m \u001b[31m6.5 MB/s\u001b[0m eta \u001b[36m0:00:00\u001b[0m\n",
            "\u001b[?25hCollecting opencv-python-headless~=4.6.0.66\n",
            "  Downloading opencv_python_headless-4.6.0.66-cp36-abi3-manylinux_2_17_x86_64.manylinux2014_x86_64.whl (48.3 MB)\n",
            "\u001b[2K     \u001b[90m━━━━━━━━━━━━━━━━━━━━━━━━━━━━━━━━━━━━━━━━\u001b[0m \u001b[32m48.3/48.3 MB\u001b[0m \u001b[31m10.2 MB/s\u001b[0m eta \u001b[36m0:00:00\u001b[0m\n",
            "\u001b[?25hCollecting asyncer~=0.0.2\n",
            "  Downloading asyncer-0.0.2-py3-none-any.whl (8.3 kB)\n",
            "Collecting watchdog~=2.1.9\n",
            "  Downloading watchdog-2.1.9-py3-none-manylinux2014_x86_64.whl (78 kB)\n",
            "\u001b[2K     \u001b[90m━━━━━━━━━━━━━━━━━━━━━━━━━━━━━━━━━━━━━━━━\u001b[0m \u001b[32m78.4/78.4 KB\u001b[0m \u001b[31m5.9 MB/s\u001b[0m eta \u001b[36m0:00:00\u001b[0m\n",
            "\u001b[?25hCollecting scikit-image~=0.19.3\n",
            "  Downloading scikit_image-0.19.3-cp38-cp38-manylinux_2_17_x86_64.manylinux2014_x86_64.whl (14.0 MB)\n",
            "\u001b[2K     \u001b[90m━━━━━━━━━━━━━━━━━━━━━━━━━━━━━━━━━━━━━━━━\u001b[0m \u001b[32m14.0/14.0 MB\u001b[0m \u001b[31m53.8 MB/s\u001b[0m eta \u001b[36m0:00:00\u001b[0m\n",
            "\u001b[?25hCollecting uvicorn~=0.20.0\n",
            "  Downloading uvicorn-0.20.0-py3-none-any.whl (56 kB)\n",
            "\u001b[2K     \u001b[90m━━━━━━━━━━━━━━━━━━━━━━━━━━━━━━━━━━━━━━━━\u001b[0m \u001b[32m56.9/56.9 KB\u001b[0m \u001b[31m7.2 MB/s\u001b[0m eta \u001b[36m0:00:00\u001b[0m\n",
            "\u001b[?25hCollecting onnxruntime-gpu~=1.13.1\n",
            "  Downloading onnxruntime_gpu-1.13.1-cp38-cp38-manylinux_2_17_x86_64.manylinux2014_x86_64.whl (115.3 MB)\n",
            "\u001b[2K     \u001b[90m━━━━━━━━━━━━━━━━━━━━━━━━━━━━━━━━━━━━━━━\u001b[0m \u001b[32m115.3/115.3 MB\u001b[0m \u001b[31m7.7 MB/s\u001b[0m eta \u001b[36m0:00:00\u001b[0m\n",
            "\u001b[?25hRequirement already satisfied: async-timeout<5.0,>=4.0.0a3 in /usr/local/lib/python3.8/dist-packages (from aiohttp~=3.8.1->rembg[gpu]) (4.0.2)\n",
            "Requirement already satisfied: attrs>=17.3.0 in /usr/local/lib/python3.8/dist-packages (from aiohttp~=3.8.1->rembg[gpu]) (22.2.0)\n",
            "Requirement already satisfied: charset-normalizer<3.0,>=2.0 in /usr/local/lib/python3.8/dist-packages (from aiohttp~=3.8.1->rembg[gpu]) (2.1.1)\n",
            "Requirement already satisfied: frozenlist>=1.1.1 in /usr/local/lib/python3.8/dist-packages (from aiohttp~=3.8.1->rembg[gpu]) (1.3.3)\n",
            "Requirement already satisfied: aiosignal>=1.1.2 in /usr/local/lib/python3.8/dist-packages (from aiohttp~=3.8.1->rembg[gpu]) (1.3.1)\n",
            "Requirement already satisfied: yarl<2.0,>=1.0 in /usr/local/lib/python3.8/dist-packages (from aiohttp~=3.8.1->rembg[gpu]) (1.8.2)\n",
            "Requirement already satisfied: multidict<7.0,>=4.5 in /usr/local/lib/python3.8/dist-packages (from aiohttp~=3.8.1->rembg[gpu]) (6.0.4)\n",
            "Collecting anyio<4.0.0,>=3.4.0\n",
            "  Downloading anyio-3.6.2-py3-none-any.whl (80 kB)\n",
            "\u001b[2K     \u001b[90m━━━━━━━━━━━━━━━━━━━━━━━━━━━━━━━━━━━━━━━━\u001b[0m \u001b[32m80.6/80.6 KB\u001b[0m \u001b[31m10.7 MB/s\u001b[0m eta \u001b[36m0:00:00\u001b[0m\n",
            "\u001b[?25hCollecting starlette==0.21.0\n",
            "  Downloading starlette-0.21.0-py3-none-any.whl (64 kB)\n",
            "\u001b[2K     \u001b[90m━━━━━━━━━━━━━━━━━━━━━━━━━━━━━━━━━━━━━━━━\u001b[0m \u001b[32m64.0/64.0 KB\u001b[0m \u001b[31m7.7 MB/s\u001b[0m eta \u001b[36m0:00:00\u001b[0m\n",
            "\u001b[?25hRequirement already satisfied: pydantic!=1.7,!=1.7.1,!=1.7.2,!=1.7.3,!=1.8,!=1.8.1,<2.0.0,>=1.6.2 in /usr/local/lib/python3.8/dist-packages (from fastapi~=0.87.0->rembg[gpu]) (1.10.4)\n",
            "Requirement already satisfied: typing-extensions>=3.10.0 in /usr/local/lib/python3.8/dist-packages (from starlette==0.21.0->fastapi~=0.87.0->rembg[gpu]) (4.4.0)\n",
            "Requirement already satisfied: PyWavelets in /usr/local/lib/python3.8/dist-packages (from imagehash~=4.3.1->rembg[gpu]) (1.4.1)\n",
            "Collecting coloredlogs\n",
            "  Downloading coloredlogs-15.0.1-py2.py3-none-any.whl (46 kB)\n",
            "\u001b[2K     \u001b[90m━━━━━━━━━━━━━━━━━━━━━━━━━━━━━━━━━━━━━━━━\u001b[0m \u001b[32m46.0/46.0 KB\u001b[0m \u001b[31m5.7 MB/s\u001b[0m eta \u001b[36m0:00:00\u001b[0m\n",
            "\u001b[?25hRequirement already satisfied: flatbuffers in /usr/local/lib/python3.8/dist-packages (from onnxruntime~=1.13.1->rembg[gpu]) (1.12)\n",
            "Requirement already satisfied: sympy in /usr/local/lib/python3.8/dist-packages (from onnxruntime~=1.13.1->rembg[gpu]) (1.7.1)\n",
            "Requirement already satisfied: packaging in /usr/local/lib/python3.8/dist-packages (from onnxruntime~=1.13.1->rembg[gpu]) (23.0)\n",
            "Requirement already satisfied: protobuf in /usr/local/lib/python3.8/dist-packages (from onnxruntime~=1.13.1->rembg[gpu]) (3.19.6)\n",
            "Requirement already satisfied: appdirs>=1.3.0 in /usr/local/lib/python3.8/dist-packages (from pooch~=1.6.0->rembg[gpu]) (1.4.4)\n",
            "Requirement already satisfied: requests>=2.19.0 in /usr/local/lib/python3.8/dist-packages (from pooch~=1.6.0->rembg[gpu]) (2.25.1)\n",
            "Requirement already satisfied: numba!=0.49.0 in /usr/local/lib/python3.8/dist-packages (from pymatting~=1.1.8->rembg[gpu]) (0.56.4)\n",
            "Requirement already satisfied: six>=1.4.0 in /usr/local/lib/python3.8/dist-packages (from python-multipart~=0.0.5->rembg[gpu]) (1.15.0)\n",
            "Requirement already satisfied: imageio>=2.4.1 in /usr/local/lib/python3.8/dist-packages (from scikit-image~=0.19.3->rembg[gpu]) (2.9.0)\n",
            "Requirement already satisfied: networkx>=2.2 in /usr/local/lib/python3.8/dist-packages (from scikit-image~=0.19.3->rembg[gpu]) (3.0)\n",
            "Requirement already satisfied: tifffile>=2019.7.26 in /usr/local/lib/python3.8/dist-packages (from scikit-image~=0.19.3->rembg[gpu]) (2023.1.23.1)\n",
            "Collecting h11>=0.8\n",
            "  Downloading h11-0.14.0-py3-none-any.whl (58 kB)\n",
            "\u001b[2K     \u001b[90m━━━━━━━━━━━━━━━━━━━━━━━━━━━━━━━━━━━━━━━━\u001b[0m \u001b[32m58.3/58.3 KB\u001b[0m \u001b[31m6.8 MB/s\u001b[0m eta \u001b[36m0:00:00\u001b[0m\n",
            "\u001b[?25hCollecting sniffio>=1.1\n",
            "  Downloading sniffio-1.3.0-py3-none-any.whl (10 kB)\n",
            "Requirement already satisfied: idna>=2.8 in /usr/local/lib/python3.8/dist-packages (from anyio<4.0.0,>=3.4.0->asyncer~=0.0.2->rembg[gpu]) (2.10)\n",
            "Requirement already satisfied: setuptools in /usr/local/lib/python3.8/dist-packages (from numba!=0.49.0->pymatting~=1.1.8->rembg[gpu]) (57.4.0)\n",
            "Requirement already satisfied: importlib-metadata in /usr/local/lib/python3.8/dist-packages (from numba!=0.49.0->pymatting~=1.1.8->rembg[gpu]) (6.0.0)\n",
            "Requirement already satisfied: llvmlite<0.40,>=0.39.0dev0 in /usr/local/lib/python3.8/dist-packages (from numba!=0.49.0->pymatting~=1.1.8->rembg[gpu]) (0.39.1)\n",
            "Requirement already satisfied: urllib3<1.27,>=1.21.1 in /usr/local/lib/python3.8/dist-packages (from requests>=2.19.0->pooch~=1.6.0->rembg[gpu]) (1.24.3)\n",
            "Requirement already satisfied: certifi>=2017.4.17 in /usr/local/lib/python3.8/dist-packages (from requests>=2.19.0->pooch~=1.6.0->rembg[gpu]) (2022.12.7)\n",
            "Requirement already satisfied: chardet<5,>=3.0.2 in /usr/local/lib/python3.8/dist-packages (from requests>=2.19.0->pooch~=1.6.0->rembg[gpu]) (4.0.0)\n",
            "Collecting humanfriendly>=9.1\n",
            "  Downloading humanfriendly-10.0-py2.py3-none-any.whl (86 kB)\n",
            "\u001b[2K     \u001b[90m━━━━━━━━━━━━━━━━━━━━━━━━━━━━━━━━━━━━━━━━\u001b[0m \u001b[32m86.8/86.8 KB\u001b[0m \u001b[31m7.9 MB/s\u001b[0m eta \u001b[36m0:00:00\u001b[0m\n",
            "\u001b[?25hRequirement already satisfied: mpmath>=0.19 in /usr/local/lib/python3.8/dist-packages (from sympy->onnxruntime~=1.13.1->rembg[gpu]) (1.2.1)\n",
            "Requirement already satisfied: zipp>=0.5 in /usr/local/lib/python3.8/dist-packages (from importlib-metadata->numba!=0.49.0->pymatting~=1.1.8->rembg[gpu]) (3.12.0)\n",
            "Building wheels for collected packages: python-multipart\n",
            "  Building wheel for python-multipart (setup.py) ... \u001b[?25l\u001b[?25hdone\n",
            "  Created wheel for python-multipart: filename=python_multipart-0.0.5-py3-none-any.whl size=31678 sha256=8d703db664c81753f50a3f5f5a00470f91f8357442c89a13b431856d4ad3b7b7\n",
            "  Stored in directory: /root/.cache/pip/wheels/9e/fc/1c/cf980e6413d3ee8e70cd8f39e2366b0f487e3e221aeb452eb0\n",
            "Successfully built python-multipart\n",
            "Installing collected packages: filetype, watchdog, sniffio, python-multipart, pillow, numpy, humanfriendly, h11, click, uvicorn, scipy, opencv-python-headless, coloredlogs, anyio, starlette, scikit-image, pymatting, onnxruntime-gpu, onnxruntime, imagehash, asyncer, fastapi, rembg\n",
            "  Attempting uninstall: pillow\n",
            "    Found existing installation: Pillow 7.1.2\n",
            "    Uninstalling Pillow-7.1.2:\n",
            "      Successfully uninstalled Pillow-7.1.2\n",
            "  Attempting uninstall: numpy\n",
            "    Found existing installation: numpy 1.21.6\n",
            "    Uninstalling numpy-1.21.6:\n",
            "      Successfully uninstalled numpy-1.21.6\n",
            "  Attempting uninstall: click\n",
            "    Found existing installation: click 7.1.2\n",
            "    Uninstalling click-7.1.2:\n",
            "      Successfully uninstalled click-7.1.2\n",
            "  Attempting uninstall: scipy\n",
            "    Found existing installation: scipy 1.7.3\n",
            "    Uninstalling scipy-1.7.3:\n",
            "      Successfully uninstalled scipy-1.7.3\n",
            "  Attempting uninstall: opencv-python-headless\n",
            "    Found existing installation: opencv-python-headless 4.7.0.68\n",
            "    Uninstalling opencv-python-headless-4.7.0.68:\n",
            "      Successfully uninstalled opencv-python-headless-4.7.0.68\n",
            "  Attempting uninstall: scikit-image\n",
            "    Found existing installation: scikit-image 0.18.3\n",
            "    Uninstalling scikit-image-0.18.3:\n",
            "      Successfully uninstalled scikit-image-0.18.3\n",
            "\u001b[31mERROR: pip's dependency resolver does not currently take into account all the packages that are installed. This behaviour is the source of the following dependency conflicts.\n",
            "flask 1.1.4 requires click<8.0,>=5.1, but you have click 8.1.3 which is incompatible.\u001b[0m\u001b[31m\n",
            "\u001b[0mSuccessfully installed anyio-3.6.2 asyncer-0.0.2 click-8.1.3 coloredlogs-15.0.1 fastapi-0.87.0 filetype-1.2.0 h11-0.14.0 humanfriendly-10.0 imagehash-4.3.1 numpy-1.23.5 onnxruntime-1.13.1 onnxruntime-gpu-1.13.1 opencv-python-headless-4.6.0.66 pillow-9.3.0 pymatting-1.1.8 python-multipart-0.0.5 rembg-2.0.30 scikit-image-0.19.3 scipy-1.9.3 sniffio-1.3.0 starlette-0.21.0 uvicorn-0.20.0 watchdog-2.1.9\n",
            "Looking in indexes: https://pypi.org/simple, https://us-python.pkg.dev/colab-wheels/public/simple/\n",
            "Collecting json-numpy\n",
            "  Downloading json_numpy-1.0.1-py3-none-any.whl (4.1 kB)\n",
            "Requirement already satisfied: numpy in /usr/local/lib/python3.8/dist-packages (from json-numpy) (1.23.5)\n",
            "Installing collected packages: json-numpy\n",
            "Successfully installed json-numpy-1.0.1\n",
            "Looking in indexes: https://pypi.org/simple, https://us-python.pkg.dev/colab-wheels/public/simple/\n",
            "Collecting pillow==7.1.2\n",
            "  Downloading Pillow-7.1.2-cp38-cp38-manylinux1_x86_64.whl (2.1 MB)\n",
            "\u001b[2K     \u001b[90m━━━━━━━━━━━━━━━━━━━━━━━━━━━━━━━━━━━━━━━━\u001b[0m \u001b[32m2.1/2.1 MB\u001b[0m \u001b[31m38.0 MB/s\u001b[0m eta \u001b[36m0:00:00\u001b[0m\n",
            "\u001b[?25hInstalling collected packages: pillow\n",
            "  Attempting uninstall: pillow\n",
            "    Found existing installation: Pillow 9.3.0\n",
            "    Uninstalling Pillow-9.3.0:\n",
            "      Successfully uninstalled Pillow-9.3.0\n",
            "\u001b[31mERROR: pip's dependency resolver does not currently take into account all the packages that are installed. This behaviour is the source of the following dependency conflicts.\n",
            "rembg 2.0.30 requires pillow~=9.3.0, but you have pillow 7.1.2 which is incompatible.\u001b[0m\u001b[31m\n",
            "\u001b[0mSuccessfully installed pillow-7.1.2\n"
          ]
        }
      ]
    },
    {
      "cell_type": "markdown",
      "source": [
        "## Dataset download - Linux"
      ],
      "metadata": {
        "id": "cGFOomhnJ6ga"
      }
    },
    {
      "cell_type": "code",
      "source": [
        "# Linux run\n",
        "from google.colab import drive\n",
        "\n",
        "! pip install kaggle\n",
        "drive.mount('/content/drive')\n",
        "! mkdir ~/.kaggle/\n",
        "! cp /content/drive/MyDrive/NameToExistingPicture/kaggle.json ~/.kaggle/\n",
        "! cp /content/drive/MyDrive/NameToExistingPicture/representations.csv /content\n",
        "! cp /content/drive/MyDrive/NameToExistingPicture/lfw_funneled.zip /content\n",
        "! cp /content/drive/MyDrive/NameToExistingPicture/autoencoder.ckpt /content\n",
        "! cp /content/drive/MyDrive/NameToExistingPicture/rnn.ckpt /content\n",
        "! chmod 600 ~/.kaggle/kaggle.json\n",
        "! kaggle datasets download -d atulanandjha/lfwpeople\n",
        "\n"
      ],
      "metadata": {
        "colab": {
          "base_uri": "https://localhost:8080/"
        },
        "id": "5Y2QSB4UzJxN",
        "outputId": "00646bf1-92a8-493c-ccd0-15d701dadec6"
      },
      "execution_count": null,
      "outputs": [
        {
          "output_type": "stream",
          "name": "stdout",
          "text": [
            "Looking in indexes: https://pypi.org/simple, https://us-python.pkg.dev/colab-wheels/public/simple/\n",
            "Requirement already satisfied: kaggle in /usr/local/lib/python3.8/dist-packages (1.5.12)\n",
            "Requirement already satisfied: urllib3 in /usr/local/lib/python3.8/dist-packages (from kaggle) (1.24.3)\n",
            "Requirement already satisfied: tqdm in /usr/local/lib/python3.8/dist-packages (from kaggle) (4.64.1)\n",
            "Requirement already satisfied: certifi in /usr/local/lib/python3.8/dist-packages (from kaggle) (2022.12.7)\n",
            "Requirement already satisfied: six>=1.10 in /usr/local/lib/python3.8/dist-packages (from kaggle) (1.15.0)\n",
            "Requirement already satisfied: python-slugify in /usr/local/lib/python3.8/dist-packages (from kaggle) (8.0.0)\n",
            "Requirement already satisfied: requests in /usr/local/lib/python3.8/dist-packages (from kaggle) (2.25.1)\n",
            "Requirement already satisfied: python-dateutil in /usr/local/lib/python3.8/dist-packages (from kaggle) (2.8.2)\n",
            "Requirement already satisfied: text-unidecode>=1.3 in /usr/local/lib/python3.8/dist-packages (from python-slugify->kaggle) (1.3)\n",
            "Requirement already satisfied: chardet<5,>=3.0.2 in /usr/local/lib/python3.8/dist-packages (from requests->kaggle) (4.0.0)\n",
            "Requirement already satisfied: idna<3,>=2.5 in /usr/local/lib/python3.8/dist-packages (from requests->kaggle) (2.10)\n",
            "Mounted at /content/drive\n",
            "Downloading lfwpeople.zip to /content\n",
            " 99% 231M/232M [00:11<00:00, 24.7MB/s]\n",
            "100% 232M/232M [00:11<00:00, 21.7MB/s]\n"
          ]
        }
      ]
    },
    {
      "cell_type": "markdown",
      "source": [
        "## Dataset download - Windows (training on PC)"
      ],
      "metadata": {
        "id": "mig5_4AxRXxp"
      }
    },
    {
      "cell_type": "code",
      "source": [
        "# Windows run\n",
        "! pip install kaggle\n",
        "! mkdir ~\\.kaggle\\\n",
        "! copy kaggle.json ..\\.kaggle\\kaggle.json\n",
        "! kaggle datasets download -d atulanandjha/lfwpeople"
      ],
      "metadata": {
        "id": "tI3ZPRw4zc_N",
        "colab": {
          "base_uri": "https://localhost:8080/"
        },
        "outputId": "3bb3922e-8038-4058-eab2-069d7b01cb8f"
      },
      "execution_count": null,
      "outputs": [
        {
          "output_type": "stream",
          "name": "stdout",
          "text": [
            "Looking in indexes: https://pypi.python.org/simple\n",
            "Requirement already satisfied: kaggle in c:\\users\\heged\\appdata\\local\\programs\\python\\python39\\lib\\site-packages (1.5.12)\n",
            "Requirement already satisfied: python-slugify in c:\\users\\heged\\appdata\\local\\programs\\python\\python39\\lib\\site-packages (from kaggle) (7.0.0)\n",
            "Requirement already satisfied: six>=1.10 in c:\\users\\heged\\appdata\\local\\programs\\python\\python39\\lib\\site-packages (from kaggle) (1.16.0)\n",
            "Requirement already satisfied: python-dateutil in c:\\users\\heged\\appdata\\local\\programs\\python\\python39\\lib\\site-packages (from kaggle) (2.8.2)\n",
            "Requirement already satisfied: requests in c:\\users\\heged\\appdata\\local\\programs\\python\\python39\\lib\\site-packages (from kaggle) (2.28.1)\n",
            "Requirement already satisfied: certifi in c:\\users\\heged\\appdata\\local\\programs\\python\\python39\\lib\\site-packages (from kaggle) (2022.12.7)\n",
            "Requirement already satisfied: urllib3 in c:\\users\\heged\\appdata\\local\\programs\\python\\python39\\lib\\site-packages (from kaggle) (1.26.8)\n",
            "Requirement already satisfied: tqdm in c:\\users\\heged\\appdata\\local\\programs\\python\\python39\\lib\\site-packages (from kaggle) (4.64.1)\n",
            "Requirement already satisfied: text-unidecode>=1.3 in c:\\users\\heged\\appdata\\local\\programs\\python\\python39\\lib\\site-packages (from python-slugify->kaggle) (1.3)\n",
            "Requirement already satisfied: charset-normalizer<3,>=2 in c:\\users\\heged\\appdata\\local\\programs\\python\\python39\\lib\\site-packages (from requests->kaggle) (2.1.1)\n",
            "Requirement already satisfied: idna<4,>=2.5 in c:\\users\\heged\\appdata\\local\\programs\\python\\python39\\lib\\site-packages (from requests->kaggle) (3.4)\n",
            "Requirement already satisfied: colorama in c:\\users\\heged\\appdata\\local\\programs\\python\\python39\\lib\\site-packages (from tqdm->kaggle) (0.4.6)\n"
          ]
        },
        {
          "output_type": "stream",
          "name": "stderr",
          "text": [
            "A subdirectory or file ~\\.kaggle already exists.\n",
            "Error occurred while processing: ~\\.kaggle.\n",
            "A subdirectory or file ! already exists.\n",
            "Error occurred while processing: !.\n",
            "A subdirectory or file copy already exists.\n",
            "Error occurred while processing: copy.\n",
            "A subdirectory or file kaggle.json already exists.\n",
            "Error occurred while processing: kaggle.json.\n",
            "A subdirectory or file ..\\.kaggle\\kaggle.json already exists.\n",
            "Error occurred while processing: ..\\.kaggle\\kaggle.json.\n"
          ]
        },
        {
          "output_type": "stream",
          "name": "stdout",
          "text": [
            "lfwpeople.zip: Skipping, found more recently modified local copy (use --force to force download)\n"
          ]
        }
      ]
    },
    {
      "cell_type": "markdown",
      "source": [
        "## Image extraction, processing"
      ],
      "metadata": {
        "id": "MP_3B6qoRiRq"
      }
    },
    {
      "cell_type": "code",
      "source": [
        "image_paths = []\n",
        "\n",
        "def processImage(path: str, size: int, removeBackground = True):\n",
        "  newpath = path.replace('.','-dat.')\n",
        "\n",
        "  if not os.path.exists(newpath):\n",
        "    picture = Image.open(path)\n",
        "    picture = picture.resize((size, size), Image.LANCZOS)\n",
        "\n",
        "    if removeBackground:\n",
        "      picture = remove(picture) \n",
        "    \n",
        "    picture.convert('RGB').save(newpath)\n",
        "\n",
        "  return newpath\n",
        "\n",
        "if not os.path.exists('/content/lfw_funneled.zip'):\n",
        "  with zf.ZipFile(\"lfwpeople.zip\", 'r') as zip:\n",
        "    zip.extractall('/content/data')\n",
        "else:\n",
        "  with zf.ZipFile(\"lfw_funneled.zip\", 'r') as zip:\n",
        "    zip.extractall('/content/data/pics')\n",
        "\n",
        "if not os.path.isdir('/content/data/pics/lfw_funneled'):\n",
        "  with tf.open(\"/content/data/lfw-funneled.tgz\") as pics:\n",
        "    pics.extractall('/content/data/pics')\n",
        "\n",
        "folders = os.listdir('/content/data/pics/lfw_funneled/')\n",
        "for folder in folders:\n",
        "  if \".txt\" not in folder:\n",
        "    images = os.listdir(f'/content/data/pics/lfw_funneled/{folder}/')\n",
        "\n",
        "    for image in images:\n",
        "      if '-dat' not in image:\n",
        "        newpt = processImage(f'/content/data/pics/lfw_funneled/{folder}/{image}', 64, True)\n",
        "        image_paths.append(newpt)"
      ],
      "metadata": {
        "id": "Y8q-gH0DKF4l"
      },
      "execution_count": null,
      "outputs": []
    },
    {
      "cell_type": "code",
      "source": [
        "#Random visszaad egy kepet nevvel, kesobb tanulasnal hasznalva\n",
        "def choose_random():\n",
        "  global image_paths\n",
        "  \n",
        "  rand = randint(0, len(image_paths)-1)\n",
        "  path = image_paths[rand]\n",
        "\n",
        "  name = path.split('/')[5]\n",
        "\n",
        "  img = Image.open(path)\n",
        "\n",
        "  array = np.array(img, dtype=\"float32\")\n",
        "  array /= 255\n",
        "\n",
        "  array = np.moveaxis(array, 2, 0)\n",
        "\n",
        "  return (name.replace('_',' '), array)\n",
        "\n",
        "value = choose_random()\n",
        "\n",
        "plt.title(value[0])\n",
        "plt.imshow(np.moveaxis(value[1], 0, 2))\n",
        "\n",
        "def choose(i):\n",
        "  global image_paths\n",
        "  path = image_paths[i]\n",
        "\n",
        "  name = path.split('/')[5]\n",
        "\n",
        "  img = Image.open(path)\n",
        "\n",
        "  array = np.array(img, dtype=\"float32\")\n",
        "  array /= 255\n",
        "\n",
        "  array = np.moveaxis(array, 2, 0)\n",
        "  return torch.Tensor(array).to(DEVICE).reshape((1,3,64,64))\n"
      ],
      "metadata": {
        "id": "QkDFu5_7RF0i",
        "colab": {
          "base_uri": "https://localhost:8080/",
          "height": 281
        },
        "outputId": "0439b08c-1b3d-4cf0-ec80-71993e6382aa"
      },
      "execution_count": null,
      "outputs": [
        {
          "output_type": "display_data",
          "data": {
            "text/plain": [
              "<Figure size 432x288 with 1 Axes>"
            ],
            "image/png": "[encoded data removed]"
          },
          "metadata": {
            "needs_background": "light"
          }
        }
      ]
    },
    {
      "cell_type": "markdown",
      "source": [
        "# Autoencoder"
      ],
      "metadata": {
        "id": "xPXGo08Kcm2W"
      }
    },
    {
      "cell_type": "markdown",
      "source": [
        "## Preparing the data\n",
        "\n",
        "Batch Size | Epochs | Learning Rate | Weight Decay | End Result\n",
        "*   16 | 50 | 0.01 | 1e-5 | ~0.3 (nagyon zajos)\n",
        "*   16 | 10 | 0.0001 | 1e-5 | ~0.02 (maszatos, de nagyon megragadja a lényeget)\n",
        "*   16 | 10 | 0.0001 | 1e-5 | ~0.016 (hatter nelkul, maszatosabb, oltonyos ferfiak jok)\n"
      ],
      "metadata": {
        "id": "mDtvtb_pmsKV"
      }
    },
    {
      "cell_type": "code",
      "source": [
        "BATCH_SIZE = 16\n",
        "SHUFFLE = True\n",
        "EPOCHS = 10\n",
        "LEARNING_RATE = 0.0001\n",
        "DEVICE = \"cuda\" if cuda.is_available() else \"cpu\"\n",
        "print(DEVICE)\n",
        "\n",
        "class EncoderDataset(Dataset):\n",
        "  def __init__(self, img_list, transform=None):\n",
        "        self.img_labels = img_list\n",
        "        self.img_list = img_list\n",
        "        self.transform = transform\n",
        "        self.target_transform = None\n",
        "\n",
        "  def __len__(self):\n",
        "      return len(self.img_labels)\n",
        "\n",
        "  def __getitem__(self, idx):\n",
        "      img_path = self.img_list[idx]\n",
        "      image = np.array(Image.open(img_path), dtype='float32')\n",
        "      image /= 255.0\n",
        "\n",
        "      image = np.moveaxis(image, 2, 0)\n",
        "\n",
        "      t_image = torch.Tensor(image)\n",
        "\n",
        "      if self.transform:\n",
        "          t_image = self.transform(t_image)\n",
        "\n",
        "      return t_image, t_image\n",
        "\n",
        "def random_generate_shuffle(img_list, ratio=0.8):\n",
        "  ids = np.random.permutation(len(img_list))\n",
        "  shuffled = np.array(img_list)[ids]\n",
        "\n",
        "  train_list = shuffled[:int(len(img_list) * ratio)]\n",
        "  test_list = shuffled[int(len(img_list) * ratio):]\n",
        "\n",
        "  return EncoderDataset(train_list) , EncoderDataset(test_list)\n",
        "\n",
        "train_data, test_data = random_generate_shuffle(image_paths)\n",
        "\n",
        "train_loader = DataLoader(train_data, batch_size=BATCH_SIZE, shuffle=SHUFFLE)\n",
        "test_loader = DataLoader(test_data, batch_size=BATCH_SIZE, shuffle=SHUFFLE)"
      ],
      "metadata": {
        "id": "8cSRjitkc0Ma",
        "colab": {
          "base_uri": "https://localhost:8080/"
        },
        "outputId": "bc81dc85-dbed-4766-fa1a-7c07e434aba9"
      },
      "execution_count": null,
      "outputs": [
        {
          "output_type": "stream",
          "name": "stdout",
          "text": [
            "cuda\n"
          ]
        }
      ]
    },
    {
      "cell_type": "markdown",
      "source": [
        "## Creating the Autoencoder"
      ],
      "metadata": {
        "id": "2J0ht-_ER1Ky"
      }
    },
    {
      "cell_type": "code",
      "source": [
        "''' class Print(nn.Module):\n",
        "    def __init__(self):\n",
        "        super(Print, self).__init__()\n",
        "\n",
        "    def forward(self, x):\n",
        "        print(x.shape)\n",
        "        return x '''\n",
        "\n",
        "class AutoEncoder(nn.Module):\n",
        "    def __init__(self, encoding_dim):\n",
        "        super(AutoEncoder, self).__init__()\n",
        "        self.encoder = nn.Sequential(\n",
        "            nn.Conv2d(3, 16, kernel_size=3, stride=1, padding=1),\n",
        "            nn.ReLU(True),\n",
        "            nn.MaxPool2d(2, stride=2),\n",
        "            nn.Conv2d(16, 32, kernel_size=3, stride=1, padding=1),\n",
        "            nn.ReLU(True),\n",
        "            nn.MaxPool2d(2, stride=2),\n",
        "            nn.Conv2d(32, 64, kernel_size=3, stride=1, padding=1),\n",
        "            nn.ReLU(True),\n",
        "            nn.MaxPool2d(2, stride=2)\n",
        "        )\n",
        "        self.decoder = nn.Sequential(\n",
        "            nn.Linear(encoding_dim, 64*64),\n",
        "            nn.Unflatten(1,(64,8,8)),\n",
        "            nn.ConvTranspose2d(64, 32, kernel_size=3, stride=2, padding=1, output_padding=1),\n",
        "            nn.ReLU(True),\n",
        "            nn.ConvTranspose2d(32, 16, kernel_size=3, stride=2, padding=1, output_padding=1),\n",
        "            nn.ReLU(True),\n",
        "            nn.ConvTranspose2d(16, 3, kernel_size=3, stride=2, padding=1, output_padding=1),\n",
        "            nn.Sigmoid()\n",
        "        )\n",
        "        self.fc = nn.Linear(64 * 64, encoding_dim)\n",
        "        self.tanh = nn.Tanh()\n",
        "        \n",
        "    def forward(self, x):\n",
        "        enc = self.encoder(x)\n",
        "        enc = enc.view(enc.size(0), -1)\n",
        "        enc = self.fc(enc)\n",
        "        enc = self.tanh(enc)\n",
        "        dec = self.decoder(enc)\n",
        "        return enc, dec\n",
        "\n",
        "autoencoder = AutoEncoder(256).to(DEVICE)"
      ],
      "metadata": {
        "id": "2pfzC9umiDpQ"
      },
      "execution_count": null,
      "outputs": []
    },
    {
      "cell_type": "markdown",
      "source": [
        "## Training"
      ],
      "metadata": {
        "id": "42KtN2egR8Sg"
      }
    },
    {
      "cell_type": "code",
      "source": [
        "loss_fn = nn.MSELoss()\n",
        "\n",
        "optimizer = optim.Adam(autoencoder.parameters(), lr=LEARNING_RATE, weight_decay=1e-5)\n",
        "\n",
        "def train_loop(train_loader, ae, loss_fn, opt):\n",
        "  size = len(train_loader.dataset)\n",
        "  loss_value, current = 0, 0\n",
        "\n",
        "  for batch, (X, y) in enumerate(train_loader):\n",
        "    X = X.to(DEVICE)\n",
        "    y = y.to(DEVICE)\n",
        "    pred = ae(X)\n",
        "\n",
        "    planned_shape = (y.size())\n",
        "    pred = torch.reshape(pred[1],planned_shape)\n",
        "    loss = loss_fn(pred, y)\n",
        "\n",
        "    X.detach()\n",
        "    y.detach()   \n",
        "    \n",
        "    opt.zero_grad()\n",
        "    loss.backward()\n",
        "    opt.step()\n",
        "\n",
        "    if batch % 10 == 0:\n",
        "      loss_value, current = loss.item(), batch * len(X)\n",
        "      print(f\"LOSS: {loss_value:>7f}  [{current:>5d}/{size:>5d}]\")\n",
        "      \n",
        "  loss_value = loss.item()\n",
        "  print(f\"LOSS: {loss_value:>7f}  [{size:>5d}/{size:>5d}]\")\n",
        "\n",
        "def test_loop(test_loader, ae, loss_fn):\n",
        "  size = len(test_loader)\n",
        "  test_loss = 0\n",
        "\n",
        "  with torch.no_grad():\n",
        "    for batch, (X, y) in enumerate(test_loader):\n",
        "      X = X.to(DEVICE)\n",
        "      y = y.to(DEVICE)\n",
        "      pred = ae(X)\n",
        "\n",
        "      planned_shape = (y.size())\n",
        "      pred = torch.reshape(pred[1],planned_shape)\n",
        "      loss = loss_fn(pred, y)\n",
        "\n",
        "      test_loss += loss.item()\n",
        "\n",
        "      X.detach()\n",
        "      y.detach()\n",
        "      \n",
        "  test_loss /= size\n",
        "  print(f\"TEST LOSS: {test_loss:>7f}\")\n",
        "\n",
        "if os.path.exists('/content/autoencoder.ckpt'):\n",
        "  autoencoder.load_state_dict(torch.load('/content/autoencoder.ckpt', map_location=torch.device(DEVICE)))\n",
        "  autoencoder.eval()\n",
        "else:\n",
        "  for i in range(EPOCHS):\n",
        "    print(f\"\\t -- Starting Epoch {i+1} -- \\t\")\n",
        "    train_loop(train_loader, autoencoder, loss_fn, optimizer)\n",
        "    test_loop(test_loader, autoencoder, loss_fn)\n",
        "  torch.save(autoencoder.state_dict(), '/content/autoencoder.ckpt')"
      ],
      "metadata": {
        "id": "sPu_i7EYne5h"
      },
      "execution_count": null,
      "outputs": []
    },
    {
      "cell_type": "markdown",
      "source": [
        "## Testing"
      ],
      "metadata": {
        "id": "VLMOOhK0h50Q"
      }
    },
    {
      "cell_type": "code",
      "source": [
        "name, array = choose_random()\n",
        "test_tensor = torch.Tensor(array).to(DEVICE).reshape((1,3,64,64))\n",
        "\n",
        "with torch.no_grad():\n",
        "  pred = autoencoder(test_tensor)\n",
        "  pred = torch.reshape(pred[1],test_tensor.size())\n",
        "\n",
        "  print(pred[0])\n",
        "\n",
        "  f, axarr = plt.subplots(1,2)\n",
        "  plt.title(name)\n",
        "  axarr[0].imshow(np.moveaxis(test_tensor.reshape(3,64,64).cpu().numpy(),0,2))\n",
        "  axarr[1].imshow(np.moveaxis(pred.reshape(3,64,64).cpu().numpy(),0,2))"
      ],
      "metadata": {
        "id": "796zrHORVRMi",
        "colab": {
          "base_uri": "https://localhost:8080/",
          "height": 928
        },
        "outputId": "28c32fd7-9275-4f54-a5fa-cb1e4272821c"
      },
      "execution_count": null,
      "outputs": [
        {
          "output_type": "stream",
          "name": "stdout",
          "text": [
            "tensor([[[8.4576e-03, 5.6018e-03, 2.7278e-03,  ..., 1.5125e-03,\n",
            "          2.3316e-03, 1.4223e-02],\n",
            "         [4.6786e-03, 3.1169e-03, 1.5503e-03,  ..., 2.4644e-04,\n",
            "          6.5984e-04, 1.0210e-02],\n",
            "         [3.9403e-03, 2.6459e-03, 1.3638e-03,  ..., 4.0633e-04,\n",
            "          5.0714e-04, 5.1020e-03],\n",
            "         ...,\n",
            "         [5.8364e-02, 6.9821e-02, 6.5992e-02,  ..., 4.4226e-02,\n",
            "          3.7511e-02, 1.0278e-01],\n",
            "         [7.5984e-02, 8.2244e-02, 7.4898e-02,  ..., 6.8666e-02,\n",
            "          5.4975e-02, 1.0760e-01],\n",
            "         [1.1957e-01, 1.2035e-01, 1.1771e-01,  ..., 1.1122e-01,\n",
            "          9.4481e-02, 1.4663e-01]],\n",
            "\n",
            "        [[1.0975e-02, 6.0098e-03, 4.0406e-03,  ..., 1.4722e-03,\n",
            "          4.0300e-03, 1.5047e-02],\n",
            "         [6.7923e-03, 3.2160e-03, 2.5159e-03,  ..., 2.7262e-04,\n",
            "          1.3936e-03, 5.3521e-03],\n",
            "         [4.7641e-03, 1.9638e-03, 1.5653e-03,  ..., 3.3123e-04,\n",
            "          1.2602e-03, 4.8477e-03],\n",
            "         ...,\n",
            "         [6.6071e-02, 6.0242e-02, 7.4723e-02,  ..., 3.7812e-02,\n",
            "          4.7260e-02, 1.0117e-01],\n",
            "         [7.4480e-02, 6.3129e-02, 7.2823e-02,  ..., 5.3652e-02,\n",
            "          6.1297e-02, 1.0639e-01],\n",
            "         [1.1672e-01, 1.0351e-01, 1.1468e-01,  ..., 8.2429e-02,\n",
            "          1.1518e-01, 1.5822e-01]],\n",
            "\n",
            "        [[1.0336e-02, 4.7732e-03, 3.0275e-03,  ..., 7.1844e-04,\n",
            "          2.0150e-03, 1.9508e-02],\n",
            "         [6.8403e-03, 2.9034e-03, 3.0679e-03,  ..., 2.2853e-04,\n",
            "          1.6445e-03, 9.3384e-03],\n",
            "         [3.6975e-03, 2.1815e-03, 1.1602e-03,  ..., 1.3668e-04,\n",
            "          4.1399e-04, 1.0014e-02],\n",
            "         ...,\n",
            "         [5.3938e-02, 5.5601e-02, 6.9211e-02,  ..., 3.0604e-02,\n",
            "          3.8163e-02, 9.2787e-02],\n",
            "         [6.3064e-02, 6.3703e-02, 5.8252e-02,  ..., 3.6202e-02,\n",
            "          3.5898e-02, 1.3348e-01],\n",
            "         [1.0459e-01, 9.4694e-02, 1.1411e-01,  ..., 8.0439e-02,\n",
            "          1.1130e-01, 1.6503e-01]]], device='cuda:0')\n"
          ]
        },
        {
          "output_type": "display_data",
          "data": {
            "text/plain": [
              "<Figure size 432x288 with 2 Axes>"
            ],
            "image/png": "[encoded data removed]"
          },
          "metadata": {
            "needs_background": "light"
          }
        }
      ]
    },
    {
      "cell_type": "code",
      "source": [
        "names = np.array([pt.split('/')[5].replace('_',' ') for pt in image_paths])\n",
        "reps = np.empty(shape=(len(image_paths),256))\n",
        "\n",
        "print('Starting autoencoding')\n",
        "for x in range(len(image_paths)):\n",
        "  reps[x] = autoencoder(choose(x))[0].detach().to('cpu').numpy()\n",
        "\n",
        "print('Saving')\n",
        "def return_as_bytes(x):\n",
        "  return json_numpy.dumps(x)\n",
        "\n",
        "reps_as_bytes = np.apply_along_axis(return_as_bytes, axis=1, arr=reps)\n",
        "\n",
        "df = pd.DataFrame(\n",
        "    {\n",
        "        'name': names,\n",
        "        'fname': image_paths,\n",
        "        'rep': reps_as_bytes,\n",
        "    }\n",
        ")\n",
        "\n",
        "df.to_csv('representations.csv')"
      ],
      "metadata": {
        "id": "JSnuRlpNrm7S",
        "colab": {
          "base_uri": "https://localhost:8080/"
        },
        "outputId": "cdcac7e2-8f07-4425-9e59-5fadc561077d"
      },
      "execution_count": null,
      "outputs": [
        {
          "output_type": "stream",
          "name": "stdout",
          "text": [
            "Starting autoencoding\n",
            "Saving\n"
          ]
        }
      ]
    },
    {
      "cell_type": "code",
      "source": [
        "autoencoder.to('cpu')\n",
        "autoencoder = None\n",
        "torch.cuda.empty_cache()"
      ],
      "metadata": {
        "id": "Mw00OjsuQFxQ"
      },
      "execution_count": null,
      "outputs": []
    },
    {
      "cell_type": "markdown",
      "source": [
        "# Recurrent network"
      ],
      "metadata": {
        "id": "q0SiXQA7c_xH"
      }
    },
    {
      "cell_type": "code",
      "source": [
        "RNN_BATCH_SIZE = 16\n",
        "RNN_SHUFFLE = True\n",
        "RNN_EPOCHS = 50\n",
        "RNN_LEARNING_RATE = 0.0001\n",
        "\n",
        "RNN_NUM_LAYERS = 4\n",
        "\n",
        "DEVICE = \"cuda\" if cuda.is_available() else \"cpu\"\n",
        "print(DEVICE)"
      ],
      "metadata": {
        "id": "TiK9AFnzfpvf",
        "colab": {
          "base_uri": "https://localhost:8080/"
        },
        "outputId": "c3d936c8-8a77-4a98-8874-68fdcfa97301"
      },
      "execution_count": null,
      "outputs": [
        {
          "output_type": "stream",
          "name": "stdout",
          "text": [
            "cpu\n"
          ]
        },
        {
          "output_type": "stream",
          "name": "stderr",
          "text": [
            "/usr/local/lib/python3.8/dist-packages/torch/cuda/__init__.py:88: UserWarning: CUDA initialization: Unexpected error from cudaGetDeviceCount(). Did you run some cuda functions before calling NumCudaDevices() that might have already set an error? Error 101: invalid device ordinal (Triggered internally at ../c10/cuda/CUDAFunctions.cpp:109.)\n",
            "  return torch._C._cuda_getDeviceCount() > 0\n"
          ]
        }
      ]
    },
    {
      "cell_type": "markdown",
      "source": [
        "## Preparing the data\n",
        "First we have to use the same data that we previously created using the autoencoder. That is what we will use as identification for the pictures."
      ],
      "metadata": {
        "id": "YSY8X3WThMDS"
      }
    },
    {
      "cell_type": "code",
      "source": [
        "dataf = pd.read_csv('representations.csv')\n",
        "dataf = dataf.to_numpy()\n",
        "\n",
        "def return_as_array(x):\n",
        "  return json_numpy.loads(x[0])\n",
        "\n",
        "names = dataf[:,1]\n",
        "fnames = dataf[:,2]\n",
        "reps = dataf[:,3].reshape(-1,1)\n",
        "reps = np.apply_along_axis(return_as_array, axis=1, arr=reps)\n",
        "\n",
        "main_list = np.empty(names.shape, dtype=[('names', object), ('reps', np.float32, (256)), ('fnames', object)])\n",
        "main_list['names'], main_list['reps'], main_list['fnames'] = names, reps, fnames"
      ],
      "metadata": {
        "id": "nETSJ1ZMgF5G"
      },
      "execution_count": null,
      "outputs": []
    },
    {
      "cell_type": "markdown",
      "source": [
        "### Slicing function\n",
        "This function is used for slicing up the input strings (names) to a list of \n",
        "one-hot line for each character in the name. One-hot line in this case means that we use one-hot coding for every possible character and choose the one that represents the current character then expand it to a matrix so that every row represents the place of that character in the name."
      ],
      "metadata": {
        "id": "CDNUQ89hlIE2"
      }
    },
    {
      "cell_type": "code",
      "source": [
        "all_chars = np.array([c for c in string.ascii_letters + \" .'\"])\n",
        "line_length = all_chars.shape[0]\n",
        "\n",
        " \n",
        "def slice_names(full_name):\n",
        "  name_len = len(full_name)\n",
        "  one_hot = np.zeros((name_len,line_length))\n",
        "  for letter_index in range(len(full_name)):\n",
        "    letter = full_name[letter_index]\n",
        "    one_hot[letter_index][np.where(all_chars == letter)] = 1\n",
        "  return one_hot.astype(np.float32)\n",
        "\n",
        "def line_to_char(line):\n",
        "  if (np.sum(line, axis=0)==0): return ''\n",
        "  return all_chars[np.argmax(line)]\n",
        "\n",
        "def restore_names(slices):\n",
        "  name = \"\"\n",
        "  for s in range(slices.shape[0]):\n",
        "    name = name + line_to_char(slices[s])\n",
        "  return name\n",
        "\n",
        "print('Character placements:')\n",
        "print(np.arange(line_length))\n",
        "print('Test Data:')\n",
        "print(slice_names('Alex')) # Teszteléshez / Bemutatáshoz\n",
        "# A névhez bármi írható, utána a szám helyére a karakter száma kerül\n",
        "\n",
        "print(restore_names(slice_names('Alex')))"
      ],
      "metadata": {
        "colab": {
          "base_uri": "https://localhost:8080/"
        },
        "id": "vH5YIKclllwi",
        "outputId": "35cb7a85-8724-43d9-a4d2-ae200f2a66ce"
      },
      "execution_count": null,
      "outputs": [
        {
          "output_type": "stream",
          "name": "stdout",
          "text": [
            "Character placements:\n",
            "[ 0  1  2  3  4  5  6  7  8  9 10 11 12 13 14 15 16 17 18 19 20 21 22 23\n",
            " 24 25 26 27 28 29 30 31 32 33 34 35 36 37 38 39 40 41 42 43 44 45 46 47\n",
            " 48 49 50 51 52 53 54]\n",
            "Test Data:\n",
            "[[0. 0. 0. 0. 0. 0. 0. 0. 0. 0. 0. 0. 0. 0. 0. 0. 0. 0. 0. 0. 0. 0. 0. 0.\n",
            "  0. 0. 1. 0. 0. 0. 0. 0. 0. 0. 0. 0. 0. 0. 0. 0. 0. 0. 0. 0. 0. 0. 0. 0.\n",
            "  0. 0. 0. 0. 0. 0. 0.]\n",
            " [0. 0. 0. 0. 0. 0. 0. 0. 0. 0. 0. 1. 0. 0. 0. 0. 0. 0. 0. 0. 0. 0. 0. 0.\n",
            "  0. 0. 0. 0. 0. 0. 0. 0. 0. 0. 0. 0. 0. 0. 0. 0. 0. 0. 0. 0. 0. 0. 0. 0.\n",
            "  0. 0. 0. 0. 0. 0. 0.]\n",
            " [0. 0. 0. 0. 1. 0. 0. 0. 0. 0. 0. 0. 0. 0. 0. 0. 0. 0. 0. 0. 0. 0. 0. 0.\n",
            "  0. 0. 0. 0. 0. 0. 0. 0. 0. 0. 0. 0. 0. 0. 0. 0. 0. 0. 0. 0. 0. 0. 0. 0.\n",
            "  0. 0. 0. 0. 0. 0. 0.]\n",
            " [0. 0. 0. 0. 0. 0. 0. 0. 0. 0. 0. 0. 0. 0. 0. 0. 0. 0. 0. 0. 0. 0. 0. 1.\n",
            "  0. 0. 0. 0. 0. 0. 0. 0. 0. 0. 0. 0. 0. 0. 0. 0. 0. 0. 0. 0. 0. 0. 0. 0.\n",
            "  0. 0. 0. 0. 0. 0. 0.]]\n",
            "Alex\n"
          ]
        }
      ]
    },
    {
      "cell_type": "markdown",
      "source": [
        "### Creating Dataset class"
      ],
      "metadata": {
        "id": "jj1wvzppqkjt"
      }
    },
    {
      "cell_type": "code",
      "source": [
        "def get_largest_seq():\n",
        "  max = 0\n",
        "  for i in main_list['names']:\n",
        "    if max < len(i): max = len(i)\n",
        "  return max\n",
        "\n",
        "class RNNDataset(Dataset):\n",
        "  def __init__(self, main_list, transform=None):\n",
        "        padding_size = get_largest_seq()\n",
        "\n",
        "        names = []\n",
        "        for name in main_list['names']:\n",
        "          sl = slice_names(name)\n",
        "          names.append(np.pad(sl, ((0, padding_size - sl.shape[0]), (0, 0)) ))\n",
        "        self.names = names\n",
        "        self.reprs = torch.from_numpy(main_list['reps'])\n",
        "\n",
        "  def __len__(self):\n",
        "      return len(self.names)\n",
        "\n",
        "  def __getitem__(self, idx):\n",
        "      repr = self.reprs[idx]\n",
        "      name = self.names[idx]\n",
        "\n",
        "      return name, repr"
      ],
      "metadata": {
        "id": "tETKkGPzqpUr"
      },
      "execution_count": null,
      "outputs": []
    },
    {
      "cell_type": "markdown",
      "source": [
        "### Dividing the data\n"
      ],
      "metadata": {
        "id": "kl_93tWAnTDp"
      }
    },
    {
      "cell_type": "code",
      "source": [
        "def random_generate_shuffle_for_rnn(main_list, ratio=0.8):  \n",
        "  ids = np.random.permutation(len(main_list))\n",
        "  shuffled = np.array(main_list)[ids]\n",
        "\n",
        "  train_list = shuffled[:int(len(main_list) * ratio)]\n",
        "  test_list = shuffled[int(len(main_list) * ratio):]\n",
        "\n",
        "  return RNNDataset(train_list), RNNDataset(test_list)\n",
        "\n",
        "train_data, test_data = random_generate_shuffle_for_rnn(main_list)\n",
        "\n",
        "train_loader = DataLoader(train_data, batch_size=RNN_BATCH_SIZE, shuffle=RNN_SHUFFLE)\n",
        "test_loader = DataLoader(test_data, batch_size=RNN_BATCH_SIZE, shuffle=RNN_SHUFFLE)"
      ],
      "metadata": {
        "id": "AF8VNAopnWav"
      },
      "execution_count": null,
      "outputs": []
    },
    {
      "cell_type": "markdown",
      "source": [
        "## Creating the Recurrent Neural Network\n",
        "This is the part when we create an RNN that will give us back both a hidden state, and an output. The hidden state is then used as an input together with the name. The output is compared to the representation we got from the autoencoder.\n",
        "\n",
        "For the first input we will have to give a false hidden state, so that it still follows the input schema."
      ],
      "metadata": {
        "id": "ySKReTFbtlz8"
      }
    },
    {
      "cell_type": "code",
      "source": [
        "class RNN(nn.Module):\n",
        "  def __init__(self, input_size, hidden_size, output_size):\n",
        "        super(RNN, self).__init__()\n",
        "\n",
        "        self.rnn = nn.RNN(line_length, 256, batch_first=True, num_layers=RNN_NUM_LAYERS)\n",
        "        self.tanh = nn.Tanh()\n",
        "        #self.linear = nn.Linear(256,256) # - [-1;1] -> [-inf, inf]\n",
        "        \n",
        "  def forward(self, input, hidden):\n",
        "      out, h_out = self.rnn(input, hidden)\n",
        "      #out = self.linear(out)\n",
        "      out = self.tanh(out)\n",
        "      return out, h_out\n",
        "\n",
        "  def initHidden(self, CURRENT_BATCH_SIZE):\n",
        "    return torch.zeros(RNN_NUM_LAYERS, CURRENT_BATCH_SIZE, 256, dtype=torch.float32)\n",
        "\n",
        "rnn = RNN(line_length, 256, 256).to(DEVICE, dtype=torch.float32)"
      ],
      "metadata": {
        "id": "t29ldZWPdtXD"
      },
      "execution_count": null,
      "outputs": []
    },
    {
      "cell_type": "markdown",
      "source": [
        "## Training"
      ],
      "metadata": {
        "id": "LJRUjZ8Z0TZD"
      }
    },
    {
      "cell_type": "code",
      "source": [
        "opt = optim.Adam(rnn.parameters(), lr=RNN_LEARNING_RATE, weight_decay=1e-5)\n",
        "loss_fn = nn.MSELoss()\n",
        "\n",
        "def train(train_loader, rnn, loss_fn, opt):\n",
        "  size = len(train_loader.dataset)\n",
        "  loss_graph = np.empty((size // RNN_BATCH_SIZE) + 2)\n",
        "  graph_ind = 0\n",
        "\n",
        "  for batch, (X, y) in enumerate(train_loader):\n",
        "    hidden = rnn.initHidden(X.shape[0]).to(DEVICE)\n",
        "\n",
        "    y = y.to(DEVICE)\n",
        "    X = X.to(DEVICE)\n",
        "\n",
        "    opt.zero_grad()\n",
        "\n",
        "    pred, hidden = rnn(X, hidden)\n",
        "\n",
        "    loss = loss_fn(pred[:,-1,:], y)\n",
        "    loss_graph[graph_ind] = loss.item()\n",
        "    graph_ind += 1\n",
        "\n",
        "    loss.backward()\n",
        "    opt.step()\n",
        "\n",
        "    if batch % 10 == 0:\n",
        "      loss_value, current = loss.item(), batch * len(X)\n",
        "      print(f\"LOSS: {loss_value:>7f}  [{current:>5d}/{size:>5d}]\")\n",
        "      \n",
        "  loss_value = loss.item()\n",
        "  loss_graph[graph_ind] = loss_value\n",
        "  graph_ind += 1\n",
        "  print(f\"LOSS: {loss_value:>7f}  [{size:>5d}/{size:>5d}]\")\n",
        "\n",
        "  return loss_graph, graph_ind\n",
        "\n",
        "def test(test_loader, rnn, loss_fn):\n",
        "  size = len(test_loader.dataset)\n",
        "  test_loss = 0\n",
        "\n",
        "  with torch.no_grad():\n",
        "    for batch, (X, y) in enumerate(test_loader):\n",
        "      hidden = rnn.initHidden(X.shape[0]).to(DEVICE)\n",
        "\n",
        "      y = y.to(DEVICE)\n",
        "      X = X.to(DEVICE)\n",
        "\n",
        "      pred, hidden = rnn(X, hidden)\n",
        "\n",
        "      loss = loss_fn(pred[:,-1,:], y)\n",
        "      test_loss += loss.item()\n",
        "      \n",
        "  test_loss /= size\n",
        "  print(f\"TEST LOSS: {test_loss:>7f}\")\n",
        "\n",
        "if os.path.exists('/content/rnn.ckpt'):\n",
        "  rnn.load_state_dict(torch.load('/content/rnn.ckpt', map_location=torch.device(DEVICE)))\n",
        "  rnn.eval()\n",
        "else:\n",
        "  loss_full = np.empty(0)\n",
        "  \n",
        "  for i in range(RNN_EPOCHS):\n",
        "    print(f\"\\t -- Starting Epoch {i+1} -- \\t\")\n",
        "    loss_graph, graph_ind = train(train_loader, rnn, loss_fn, opt)\n",
        "    loss_full = np.concatenate((loss_full, loss_graph))\n",
        "    test(test_loader, rnn, loss_fn)\n",
        "\n",
        "  plt.plot(loss_full)\n",
        "  plt.show()\n",
        "  torch.save(rnn.state_dict(), '/content/rnn.ckpt')"
      ],
      "metadata": {
        "id": "EQIACtSDysei"
      },
      "execution_count": null,
      "outputs": []
    },
    {
      "cell_type": "markdown",
      "source": [
        "## Testing"
      ],
      "metadata": {
        "id": "PQTGvIFTSIoW"
      }
    },
    {
      "cell_type": "code",
      "source": [
        "def test_one(test_name, test_rep):\n",
        "  hidden = rnn.initHidden(RNN_BATCH_SIZE).to(DEVICE)\n",
        "  name = test_name.numpy()\n",
        "  print(\"Actual:\",restore_names(name[0]))\n",
        "\n",
        "  test_name = test_name.to(DEVICE)\n",
        "  pred, ph = rnn(test_name, hidden)\n",
        "\n",
        "  real_pred = pred.detach().cpu()[0,-1].numpy()\n",
        "\n",
        "  argmin = np.argmin(np.sum(np.abs(main_list['reps'] - real_pred),axis=1))\n",
        "\n",
        "  print(\"Closest to prediction:\",main_list['names'][argmin])\n",
        "\n",
        "t_n, t_p = next(iter(test_loader))\n",
        "test_one(t_n, t_p)"
      ],
      "metadata": {
        "id": "wOtRZRQPvE4y",
        "colab": {
          "base_uri": "https://localhost:8080/"
        },
        "outputId": "a4de6774-3bf3-4c87-9341-f5174214d6b2"
      },
      "execution_count": null,
      "outputs": [
        {
          "output_type": "stream",
          "name": "stdout",
          "text": [
            "Actual: Priyanka Chopra\n",
            "Closest to prediction: Alejandro Toledo\n"
          ]
        }
      ]
    },
    {
      "cell_type": "code",
      "source": [
        "def find_picture(real_name):\n",
        "  name = torch.from_numpy(slice_names(real_name))[None, :, :].to(DEVICE)\n",
        "  hidden = rnn.initHidden(1).to(DEVICE)\n",
        "\n",
        "  pred, hidden = rnn(name, hidden)\n",
        "  pred_np = pred.detach().cpu().numpy()\n",
        "  last_pred = pred_np[0,-1,:]\n",
        "\n",
        "  # MSE - not good\n",
        "  ''' diff = main_list['reps']-last_pred\n",
        "  sqr = np.square(diff)\n",
        "  sum = np.sum(sqr, axis=1)\n",
        "  sqrt = np.sqrt(sum)\n",
        "  pic_id = np.argmin(sqrt) '''\n",
        "\n",
        "  # MAE\n",
        "  diff = main_list['reps']-last_pred\n",
        "  abs = np.abs(diff)\n",
        "  sum = np.sum(abs, axis=1)\n",
        "  div = sum/sum.shape\n",
        "  pic_id = np.argmin(div)\n",
        "\n",
        "  path = main_list['fnames'][pic_id]\n",
        "  img = Image.open(path)\n",
        "\n",
        "  array = np.array(img, dtype=\"float32\")\n",
        "  array /= 255\n",
        "  plt.title(real_name)\n",
        "  plt.imshow(array)\n",
        "  \n",
        "\n",
        "find_picture(\"Dracula\")"
      ],
      "metadata": {
        "colab": {
          "base_uri": "https://localhost:8080/",
          "height": 281
        },
        "id": "LoHfhPojWLUS",
        "outputId": "5cc6d5f5-3fc9-4574-f154-a4d4482874d7"
      },
      "execution_count": null,
      "outputs": [
        {
          "output_type": "display_data",
          "data": {
            "text/plain": [
              "<Figure size 432x288 with 1 Axes>"
            ],
            "image/png": "[encoded data removed]"
          },
          "metadata": {
            "needs_background": "light"
          }
        }
      ]
    }
  ]
}